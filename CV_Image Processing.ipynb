{
 "cells": [
  {
   "cell_type": "code",
   "execution_count": 2,
   "metadata": {},
   "outputs": [],
   "source": [
    "import cv2\n",
    "import numpy as np\n",
    "from matplotlib import pyplot as plt"
   ]
  },
  {
   "cell_type": "code",
   "execution_count": 5,
   "metadata": {},
   "outputs": [],
   "source": [
    "##convert original image to grayscale"
   ]
  },
  {
   "cell_type": "code",
   "execution_count": 4,
   "metadata": {},
   "outputs": [
    {
     "data": {
      "text/plain": [
       "True"
      ]
     },
     "execution_count": 4,
     "metadata": {},
     "output_type": "execute_result"
    }
   ],
   "source": [
    "\n",
    "  \n",
    "image = cv2.imread('/home/nupurjhankar/Desktop/CV_project/frames/frame1.jpg')\n",
    "gray = cv2.cvtColor(image, cv2.COLOR_BGR2GRAY)\n",
    "  \n",
    "cv2.imshow('Original image',image)\n",
    "cv2.imshow('Gray image', gray)\n",
    "cv2.imwrite('/home/nupurjhankar/Desktop/CV_project/frames/frame2.jpg',gray)\n"
   ]
  },
  {
   "cell_type": "code",
   "execution_count": 6,
   "metadata": {},
   "outputs": [],
   "source": [
    "##contrast enhancement"
   ]
  },
  {
   "cell_type": "code",
   "execution_count": 3,
   "metadata": {},
   "outputs": [
    {
     "data": {
      "text/plain": [
       "True"
      ]
     },
     "execution_count": 3,
     "metadata": {},
     "output_type": "execute_result"
    }
   ],
   "source": [
    "image1 = cv2.imread('/home/nupurjhankar/Downloads/2f6caaf6-0000000.jpg', cv2.IMREAD_GRAYSCALE)\n",
    "\n",
    "image_enhanced = cv2.equalizeHist(image1)\n",
    "cv2.imwrite('//home/nupurjhankar/Downloads/2.jpg',image_enhanced)"
   ]
  },
  {
   "cell_type": "code",
   "execution_count": null,
   "metadata": {},
   "outputs": [],
   "source": [
    "##resize the image"
   ]
  },
  {
   "cell_type": "code",
   "execution_count": 38,
   "metadata": {},
   "outputs": [
    {
     "data": {
      "text/plain": [
       "True"
      ]
     },
     "execution_count": 38,
     "metadata": {},
     "output_type": "execute_result"
    }
   ],
   "source": [
    "image2 = cv2.imread(\"/home/nupurjhankar/Desktop/CV_project/frames/frame4.jpeg\")\n",
    "image2 = cv2.resize(image2, (250,259))\n",
    "cv2.imwrite(\"/home/nupurjhankar/Desktop/CV_project/frames/frame5.jpg\",image2)\n"
   ]
  },
  {
   "cell_type": "raw",
   "metadata": {},
   "source": [
    "## "
   ]
  },
  {
   "cell_type": "code",
   "execution_count": 12,
   "metadata": {},
   "outputs": [],
   "source": [
    "##filtering or blurring"
   ]
  },
  {
   "cell_type": "code",
   "execution_count": 13,
   "metadata": {},
   "outputs": [],
   "source": [
    "##Gaussian filtering"
   ]
  },
  {
   "cell_type": "code",
   "execution_count": 50,
   "metadata": {},
   "outputs": [
    {
     "data": {
      "text/plain": [
       "True"
      ]
     },
     "execution_count": 50,
     "metadata": {},
     "output_type": "execute_result"
    }
   ],
   "source": [
    "image3= cv2.imread(\"/home/nupurjhankar/Desktop/CV_project/frames/frame5.jpg\")\n",
    "blur = cv2.GaussianBlur(image3,(5,5),0)\n",
    "cv2.imwrite(\"/home/nupurjhankar/Desktop/CV_project/frames/frame6.jpg\", blur)\n",
    "\n",
    "blur1 = cv2.GaussianBlur(image3,(5,5),7)\n",
    "cv2.imwrite(\"/home/nupurjhankar/Desktop/CV_project/frames/frame7.jpg\", blur)\n",
    "\n",
    "\n"
   ]
  },
  {
   "cell_type": "code",
   "execution_count": 46,
   "metadata": {},
   "outputs": [
    {
     "data": {
      "text/plain": [
       "True"
      ]
     },
     "execution_count": 46,
     "metadata": {},
     "output_type": "execute_result"
    }
   ],
   "source": [
    "blur = cv2.bilateralFilter(image3,9,75,75)\n",
    "\n",
    "cv2.imwrite(\"/home/nupurjhankar/Desktop/CV_project/frames/frame8.jpg\", blur)\n",
    "\n",
    "blur1 = cv2.bilateralFilter(image3,19,175,175)\n",
    "\n",
    "cv2.imwrite(\"/home/nupurjhankar/Desktop/CV_project/frames/frame9.jpg\", blur1)\n"
   ]
  },
  {
   "cell_type": "code",
   "execution_count": 4,
   "metadata": {},
   "outputs": [
    {
     "data": {
      "text/plain": [
       "'\\n\\n# define range of blue color in HSV\\nlower_blue = np.array([110,50,50])\\nupper_blue = np.array([130,255,255])\\n\\n# Threshold the HSV image to get only blue colors\\nmask = cv2.inRange(hsv, lower_blue, upper_blue)\\ncv2.imwrite(\"/home/nupurjhankar/Desktop/CV_project/frames/frame16.jpg\",mask)\\n# Bitwise-AND mask and original image\\nres = cv2.bitwise_and(frame,frame, mask= mask)\\ncv2.imwrite(\"/home/nupurjhankar/Desktop/CV_project/frames/frame17.jpg\",res)\\n\\n'"
      ]
     },
     "execution_count": 4,
     "metadata": {},
     "output_type": "execute_result"
    }
   ],
   "source": [
    "\n",
    "\n",
    "\n",
    "frame = cv2.imread(\"/home/nupurjhankar/Downloads/2f6caaf6-0000000.jpg\")\n",
    "# Convert BGR to HSV\n",
    "hsv = cv2.cvtColor(frame, cv2.COLOR_BGR2HSV)\n",
    "cv2.imwrite(\"/home/nupurjhankar/Downloads/2.jpg\",hsv)\n",
    "'''\n",
    "\n",
    "# define range of blue color in HSV\n",
    "lower_blue = np.array([110,50,50])\n",
    "upper_blue = np.array([130,255,255])\n",
    "\n",
    "# Threshold the HSV image to get only blue colors\n",
    "mask = cv2.inRange(hsv, lower_blue, upper_blue)\n",
    "cv2.imwrite(\"/home/nupurjhankar/Desktop/CV_project/frames/frame16.jpg\",mask)\n",
    "# Bitwise-AND mask and original image\n",
    "res = cv2.bitwise_and(frame,frame, mask= mask)\n",
    "cv2.imwrite(\"/home/nupurjhankar/Desktop/CV_project/frames/frame17.jpg\",res)\n",
    "\n",
    "'''\n",
    "\n",
    "\n"
   ]
  },
  {
   "cell_type": "code",
   "execution_count": null,
   "metadata": {},
   "outputs": [],
   "source": [
    "from PIL import Image, ImageEnhance \n",
    "im = Image.open(\"sample3.png\")\n",
    "enhancer = ImageEnhance.Sharpness(im)\n",
    "enhanced_im = enhancer.enhance(10.0)\n",
    "enhanced_im.save(\"enhanced.sample3.png\")\n",
    "OUTPUT"
   ]
  }
 ],
 "metadata": {
  "kernelspec": {
   "display_name": "Python 3",
   "language": "python",
   "name": "python3"
  },
  "language_info": {
   "codemirror_mode": {
    "name": "ipython",
    "version": 3
   },
   "file_extension": ".py",
   "mimetype": "text/x-python",
   "name": "python",
   "nbconvert_exporter": "python",
   "pygments_lexer": "ipython3",
   "version": "3.7.6"
  }
 },
 "nbformat": 4,
 "nbformat_minor": 4
}
